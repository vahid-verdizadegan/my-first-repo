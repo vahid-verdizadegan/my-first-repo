{
 "cells": [
  {
   "cell_type": "code",
   "execution_count": 105,
   "metadata": {},
   "outputs": [
    {
     "name": "stdout",
     "output_type": "stream",
     "text": [
      "Table1 : [13, 17, 21, 9]\n",
      "Group leader : 9\n",
      "----------------------\n",
      "Table2 : [14, 22, 11, 18]\n",
      "Group leader : 18\n",
      "----------------------\n",
      "Table3 : [4, 19, 2, 3]\n",
      "Group leader : 3\n",
      "----------------------\n",
      "Table4 : [20, 12, 8, 7]\n",
      "Group leader : 7\n",
      "----------------------\n",
      "Table5 : [1, 23, 10, 24]\n",
      "Group leader : 24\n",
      "----------------------\n",
      "Table6 : [15, 6, 5, 16]\n",
      "Group leader : 16\n",
      "----------------------\n"
     ]
    }
   ],
   "source": [
    "import random\n",
    "cursisten = [1,2,3,4,5,6,7,8,9,10,11,12,13,14,15,16,17,18,19,20,21,22,23,24]\n",
    "random.shuffle(cursisten) # هم زدن لیست دانش آموزان\n",
    "\n",
    "tables = {f\"table{i}\": [] for i in range(1, 7)} # ایجاد دیکشنری با زیر مجموعه های لیست\n",
    "\n",
    "for i in range(1, 7):\n",
    "    for j in range (4):\n",
    "        tables[f\"table{i}\"].append(cursisten.pop()) # مقداردهی\n",
    "    print(f\"Table{i} : {tables[f'table{i}']}\")\n",
    "    print(f\"Group leader : {tables[f'table{i}'].pop()}\")\n",
    "    print(\"----------------------\")\n",
    "\n"
   ]
  }
 ],
 "metadata": {
  "kernelspec": {
   "display_name": "usr",
   "language": "python",
   "name": "python3"
  },
  "language_info": {
   "codemirror_mode": {
    "name": "ipython",
    "version": 3
   },
   "file_extension": ".py",
   "mimetype": "text/x-python",
   "name": "python",
   "nbconvert_exporter": "python",
   "pygments_lexer": "ipython3",
   "version": "3.12.3"
  }
 },
 "nbformat": 4,
 "nbformat_minor": 2
}
